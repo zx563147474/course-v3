{
 "cells": [
  {
   "cell_type": "code",
   "execution_count": 27,
   "metadata": {},
   "outputs": [],
   "source": [
    "%reload_ext autoreload\n",
    "%autoreload 2"
   ]
  },
  {
   "cell_type": "code",
   "execution_count": 28,
   "metadata": {},
   "outputs": [],
   "source": [
    "from fastai.basics import *"
   ]
  },
  {
   "cell_type": "markdown",
   "metadata": {},
   "source": [
    "# Rossmann"
   ]
  },
  {
   "cell_type": "markdown",
   "metadata": {},
   "source": [
    "## Data preparation / Feature engineering"
   ]
  },
  {
   "cell_type": "markdown",
   "metadata": {},
   "source": [
    "In addition to the provided data, we will be using external datasets put together by participants in the Kaggle competition. You can download all of them [here](http://files.fast.ai/part2/lesson14/rossmann.tgz). Then you shold untar them in the dirctory to which `PATH` is pointing below.\n",
    "\n",
    "For completeness, the implementation used to put them together is included below."
   ]
  },
  {
   "cell_type": "code",
   "execution_count": 29,
   "metadata": {},
   "outputs": [
    {
     "data": {
      "text/plain": [
       "(1017209, 41088, '0', str)"
      ]
     },
     "execution_count": 29,
     "metadata": {},
     "output_type": "execute_result"
    }
   ],
   "source": [
    "Config.DEFAULT_CONFIG_PATH = 'd:/fastaiconfig.yml'\n",
    "PATH=Config().data_path()/Path('rossmann/')\n",
    "table_names = ['train', 'store', 'store_states', 'state_names', 'googletrend', 'weather', 'test']\n",
    "tables = [pd.read_csv(PATH/f'{fname}.csv', low_memory=False) for fname in table_names]\n",
    "train, store, store_states, state_names, googletrend, weather, test = tables\n",
    "len(train),len(test), train.StateHoliday[1], type(train.StateHoliday[1])"
   ]
  },
  {
   "cell_type": "markdown",
   "metadata": {},
   "source": [
    "We turn state Holidays to booleans, to make them more convenient for modeling. We can do calculations on pandas fields using notation very similar (often identical) to numpy."
   ]
  },
  {
   "cell_type": "code",
   "execution_count": 30,
   "metadata": {},
   "outputs": [
    {
     "data": {
      "text/plain": [
       "0          False\n",
       "1          False\n",
       "2          False\n",
       "3          False\n",
       "4          False\n",
       "           ...  \n",
       "1017204     True\n",
       "1017205     True\n",
       "1017206     True\n",
       "1017207     True\n",
       "1017208     True\n",
       "Name: StateHoliday, Length: 1017209, dtype: bool"
      ]
     },
     "execution_count": 30,
     "metadata": {},
     "output_type": "execute_result"
    }
   ],
   "source": [
    "train.StateHoliday = train.StateHoliday!='0'\n",
    "test.StateHoliday = test.StateHoliday!='0'\n",
    "train.StateHoliday"
   ]
  },
  {
   "cell_type": "markdown",
   "metadata": {},
   "source": [
    "`join_df` is a function for joining tables on specific fields. By default, we'll be doing a left outer join of `right` on the `left` argument using the given fields for each table.\n",
    "\n",
    "Pandas does joins using the `merge` method. The `suffixes` argument describes the naming convention for duplicate fields. We've elected to leave the duplicate field names on the left untouched, and append a \"\\_y\" to those on the right."
   ]
  },
  {
   "cell_type": "code",
   "execution_count": 31,
   "metadata": {},
   "outputs": [],
   "source": [
    "def join_df(left, right, left_on, right_on=None, suffix='_y'):\n",
    "    if right_on is None: right_on = left_on\n",
    "    return left.merge(right, how='left', left_on=left_on, right_on=right_on, \n",
    "                      suffixes=(\"\", suffix))"
   ]
  },
  {
   "cell_type": "markdown",
   "metadata": {},
   "source": [
    "Join weather/state names."
   ]
  },
  {
   "cell_type": "code",
   "execution_count": 32,
   "metadata": {},
   "outputs": [
    {
     "data": {
      "text/html": [
       "<div>\n",
       "<style scoped>\n",
       "    .dataframe tbody tr th:only-of-type {\n",
       "        vertical-align: middle;\n",
       "    }\n",
       "\n",
       "    .dataframe tbody tr th {\n",
       "        vertical-align: top;\n",
       "    }\n",
       "\n",
       "    .dataframe thead th {\n",
       "        text-align: right;\n",
       "    }\n",
       "</style>\n",
       "<table border=\"1\" class=\"dataframe\">\n",
       "  <thead>\n",
       "    <tr style=\"text-align: right;\">\n",
       "      <th></th>\n",
       "      <th>file</th>\n",
       "      <th>Date</th>\n",
       "      <th>Max_TemperatureC</th>\n",
       "      <th>Mean_TemperatureC</th>\n",
       "      <th>Min_TemperatureC</th>\n",
       "      <th>Dew_PointC</th>\n",
       "      <th>MeanDew_PointC</th>\n",
       "      <th>Min_DewpointC</th>\n",
       "      <th>Max_Humidity</th>\n",
       "      <th>Mean_Humidity</th>\n",
       "      <th>...</th>\n",
       "      <th>Min_VisibilitykM</th>\n",
       "      <th>Max_Wind_SpeedKm_h</th>\n",
       "      <th>Mean_Wind_SpeedKm_h</th>\n",
       "      <th>Max_Gust_SpeedKm_h</th>\n",
       "      <th>Precipitationmm</th>\n",
       "      <th>CloudCover</th>\n",
       "      <th>Events</th>\n",
       "      <th>WindDirDegrees</th>\n",
       "      <th>StateName</th>\n",
       "      <th>State</th>\n",
       "    </tr>\n",
       "  </thead>\n",
       "  <tbody>\n",
       "    <tr>\n",
       "      <td>0</td>\n",
       "      <td>NordrheinWestfalen</td>\n",
       "      <td>2013-01-01</td>\n",
       "      <td>8</td>\n",
       "      <td>4</td>\n",
       "      <td>2</td>\n",
       "      <td>7</td>\n",
       "      <td>5</td>\n",
       "      <td>1</td>\n",
       "      <td>94</td>\n",
       "      <td>87</td>\n",
       "      <td>...</td>\n",
       "      <td>4.0</td>\n",
       "      <td>39</td>\n",
       "      <td>26</td>\n",
       "      <td>58.0</td>\n",
       "      <td>5.08</td>\n",
       "      <td>6.0</td>\n",
       "      <td>Rain</td>\n",
       "      <td>215</td>\n",
       "      <td>NordrheinWestfalen</td>\n",
       "      <td>NW</td>\n",
       "    </tr>\n",
       "    <tr>\n",
       "      <td>1</td>\n",
       "      <td>NordrheinWestfalen</td>\n",
       "      <td>2013-01-02</td>\n",
       "      <td>7</td>\n",
       "      <td>4</td>\n",
       "      <td>1</td>\n",
       "      <td>5</td>\n",
       "      <td>3</td>\n",
       "      <td>2</td>\n",
       "      <td>93</td>\n",
       "      <td>85</td>\n",
       "      <td>...</td>\n",
       "      <td>10.0</td>\n",
       "      <td>24</td>\n",
       "      <td>16</td>\n",
       "      <td>NaN</td>\n",
       "      <td>0.00</td>\n",
       "      <td>6.0</td>\n",
       "      <td>Rain</td>\n",
       "      <td>225</td>\n",
       "      <td>NordrheinWestfalen</td>\n",
       "      <td>NW</td>\n",
       "    </tr>\n",
       "    <tr>\n",
       "      <td>2</td>\n",
       "      <td>NordrheinWestfalen</td>\n",
       "      <td>2013-01-03</td>\n",
       "      <td>11</td>\n",
       "      <td>8</td>\n",
       "      <td>6</td>\n",
       "      <td>10</td>\n",
       "      <td>8</td>\n",
       "      <td>4</td>\n",
       "      <td>100</td>\n",
       "      <td>93</td>\n",
       "      <td>...</td>\n",
       "      <td>2.0</td>\n",
       "      <td>26</td>\n",
       "      <td>21</td>\n",
       "      <td>NaN</td>\n",
       "      <td>1.02</td>\n",
       "      <td>7.0</td>\n",
       "      <td>Rain</td>\n",
       "      <td>240</td>\n",
       "      <td>NordrheinWestfalen</td>\n",
       "      <td>NW</td>\n",
       "    </tr>\n",
       "    <tr>\n",
       "      <td>3</td>\n",
       "      <td>NordrheinWestfalen</td>\n",
       "      <td>2013-01-04</td>\n",
       "      <td>9</td>\n",
       "      <td>9</td>\n",
       "      <td>8</td>\n",
       "      <td>9</td>\n",
       "      <td>9</td>\n",
       "      <td>8</td>\n",
       "      <td>100</td>\n",
       "      <td>94</td>\n",
       "      <td>...</td>\n",
       "      <td>2.0</td>\n",
       "      <td>23</td>\n",
       "      <td>14</td>\n",
       "      <td>NaN</td>\n",
       "      <td>0.25</td>\n",
       "      <td>7.0</td>\n",
       "      <td>Rain</td>\n",
       "      <td>263</td>\n",
       "      <td>NordrheinWestfalen</td>\n",
       "      <td>NW</td>\n",
       "    </tr>\n",
       "    <tr>\n",
       "      <td>4</td>\n",
       "      <td>NordrheinWestfalen</td>\n",
       "      <td>2013-01-05</td>\n",
       "      <td>8</td>\n",
       "      <td>8</td>\n",
       "      <td>7</td>\n",
       "      <td>8</td>\n",
       "      <td>7</td>\n",
       "      <td>6</td>\n",
       "      <td>100</td>\n",
       "      <td>94</td>\n",
       "      <td>...</td>\n",
       "      <td>3.0</td>\n",
       "      <td>16</td>\n",
       "      <td>10</td>\n",
       "      <td>NaN</td>\n",
       "      <td>0.00</td>\n",
       "      <td>7.0</td>\n",
       "      <td>Rain</td>\n",
       "      <td>268</td>\n",
       "      <td>NordrheinWestfalen</td>\n",
       "      <td>NW</td>\n",
       "    </tr>\n",
       "    <tr>\n",
       "      <td>...</td>\n",
       "      <td>...</td>\n",
       "      <td>...</td>\n",
       "      <td>...</td>\n",
       "      <td>...</td>\n",
       "      <td>...</td>\n",
       "      <td>...</td>\n",
       "      <td>...</td>\n",
       "      <td>...</td>\n",
       "      <td>...</td>\n",
       "      <td>...</td>\n",
       "      <td>...</td>\n",
       "      <td>...</td>\n",
       "      <td>...</td>\n",
       "      <td>...</td>\n",
       "      <td>...</td>\n",
       "      <td>...</td>\n",
       "      <td>...</td>\n",
       "      <td>...</td>\n",
       "      <td>...</td>\n",
       "      <td>...</td>\n",
       "      <td>...</td>\n",
       "    </tr>\n",
       "    <tr>\n",
       "      <td>15835</td>\n",
       "      <td>Saarland</td>\n",
       "      <td>2015-09-13</td>\n",
       "      <td>21</td>\n",
       "      <td>17</td>\n",
       "      <td>12</td>\n",
       "      <td>16</td>\n",
       "      <td>14</td>\n",
       "      <td>12</td>\n",
       "      <td>100</td>\n",
       "      <td>88</td>\n",
       "      <td>...</td>\n",
       "      <td>10.0</td>\n",
       "      <td>27</td>\n",
       "      <td>10</td>\n",
       "      <td>50.0</td>\n",
       "      <td>1.02</td>\n",
       "      <td>7.0</td>\n",
       "      <td>Rain</td>\n",
       "      <td>113</td>\n",
       "      <td>Saarland</td>\n",
       "      <td>SL</td>\n",
       "    </tr>\n",
       "    <tr>\n",
       "      <td>15836</td>\n",
       "      <td>Saarland</td>\n",
       "      <td>2015-09-14</td>\n",
       "      <td>18</td>\n",
       "      <td>14</td>\n",
       "      <td>11</td>\n",
       "      <td>15</td>\n",
       "      <td>12</td>\n",
       "      <td>7</td>\n",
       "      <td>99</td>\n",
       "      <td>85</td>\n",
       "      <td>...</td>\n",
       "      <td>4.0</td>\n",
       "      <td>32</td>\n",
       "      <td>16</td>\n",
       "      <td>53.0</td>\n",
       "      <td>9.91</td>\n",
       "      <td>5.0</td>\n",
       "      <td>Rain-Thunderstorm</td>\n",
       "      <td>213</td>\n",
       "      <td>Saarland</td>\n",
       "      <td>SL</td>\n",
       "    </tr>\n",
       "    <tr>\n",
       "      <td>15837</td>\n",
       "      <td>Saarland</td>\n",
       "      <td>2015-09-15</td>\n",
       "      <td>16</td>\n",
       "      <td>12</td>\n",
       "      <td>9</td>\n",
       "      <td>11</td>\n",
       "      <td>8</td>\n",
       "      <td>7</td>\n",
       "      <td>93</td>\n",
       "      <td>77</td>\n",
       "      <td>...</td>\n",
       "      <td>10.0</td>\n",
       "      <td>34</td>\n",
       "      <td>14</td>\n",
       "      <td>NaN</td>\n",
       "      <td>0.00</td>\n",
       "      <td>5.0</td>\n",
       "      <td>Rain</td>\n",
       "      <td>193</td>\n",
       "      <td>Saarland</td>\n",
       "      <td>SL</td>\n",
       "    </tr>\n",
       "    <tr>\n",
       "      <td>15838</td>\n",
       "      <td>Saarland</td>\n",
       "      <td>2015-09-16</td>\n",
       "      <td>19</td>\n",
       "      <td>15</td>\n",
       "      <td>11</td>\n",
       "      <td>16</td>\n",
       "      <td>13</td>\n",
       "      <td>10</td>\n",
       "      <td>97</td>\n",
       "      <td>90</td>\n",
       "      <td>...</td>\n",
       "      <td>4.0</td>\n",
       "      <td>32</td>\n",
       "      <td>14</td>\n",
       "      <td>45.0</td>\n",
       "      <td>20.07</td>\n",
       "      <td>7.0</td>\n",
       "      <td>Rain-Thunderstorm</td>\n",
       "      <td>147</td>\n",
       "      <td>Saarland</td>\n",
       "      <td>SL</td>\n",
       "    </tr>\n",
       "    <tr>\n",
       "      <td>15839</td>\n",
       "      <td>Saarland</td>\n",
       "      <td>2015-09-17</td>\n",
       "      <td>14</td>\n",
       "      <td>13</td>\n",
       "      <td>12</td>\n",
       "      <td>14</td>\n",
       "      <td>12</td>\n",
       "      <td>10</td>\n",
       "      <td>99</td>\n",
       "      <td>92</td>\n",
       "      <td>...</td>\n",
       "      <td>8.0</td>\n",
       "      <td>27</td>\n",
       "      <td>16</td>\n",
       "      <td>47.0</td>\n",
       "      <td>6.10</td>\n",
       "      <td>6.0</td>\n",
       "      <td>Rain</td>\n",
       "      <td>202</td>\n",
       "      <td>Saarland</td>\n",
       "      <td>SL</td>\n",
       "    </tr>\n",
       "  </tbody>\n",
       "</table>\n",
       "<p>15840 rows × 26 columns</p>\n",
       "</div>"
      ],
      "text/plain": [
       "                     file        Date  Max_TemperatureC  Mean_TemperatureC  \\\n",
       "0      NordrheinWestfalen  2013-01-01                 8                  4   \n",
       "1      NordrheinWestfalen  2013-01-02                 7                  4   \n",
       "2      NordrheinWestfalen  2013-01-03                11                  8   \n",
       "3      NordrheinWestfalen  2013-01-04                 9                  9   \n",
       "4      NordrheinWestfalen  2013-01-05                 8                  8   \n",
       "...                   ...         ...               ...                ...   \n",
       "15835            Saarland  2015-09-13                21                 17   \n",
       "15836            Saarland  2015-09-14                18                 14   \n",
       "15837            Saarland  2015-09-15                16                 12   \n",
       "15838            Saarland  2015-09-16                19                 15   \n",
       "15839            Saarland  2015-09-17                14                 13   \n",
       "\n",
       "       Min_TemperatureC  Dew_PointC  MeanDew_PointC  Min_DewpointC  \\\n",
       "0                     2           7               5              1   \n",
       "1                     1           5               3              2   \n",
       "2                     6          10               8              4   \n",
       "3                     8           9               9              8   \n",
       "4                     7           8               7              6   \n",
       "...                 ...         ...             ...            ...   \n",
       "15835                12          16              14             12   \n",
       "15836                11          15              12              7   \n",
       "15837                 9          11               8              7   \n",
       "15838                11          16              13             10   \n",
       "15839                12          14              12             10   \n",
       "\n",
       "       Max_Humidity  Mean_Humidity  ...  Min_VisibilitykM  Max_Wind_SpeedKm_h  \\\n",
       "0                94             87  ...               4.0                  39   \n",
       "1                93             85  ...              10.0                  24   \n",
       "2               100             93  ...               2.0                  26   \n",
       "3               100             94  ...               2.0                  23   \n",
       "4               100             94  ...               3.0                  16   \n",
       "...             ...            ...  ...               ...                 ...   \n",
       "15835           100             88  ...              10.0                  27   \n",
       "15836            99             85  ...               4.0                  32   \n",
       "15837            93             77  ...              10.0                  34   \n",
       "15838            97             90  ...               4.0                  32   \n",
       "15839            99             92  ...               8.0                  27   \n",
       "\n",
       "       Mean_Wind_SpeedKm_h  Max_Gust_SpeedKm_h  Precipitationmm  CloudCover  \\\n",
       "0                       26                58.0             5.08         6.0   \n",
       "1                       16                 NaN             0.00         6.0   \n",
       "2                       21                 NaN             1.02         7.0   \n",
       "3                       14                 NaN             0.25         7.0   \n",
       "4                       10                 NaN             0.00         7.0   \n",
       "...                    ...                 ...              ...         ...   \n",
       "15835                   10                50.0             1.02         7.0   \n",
       "15836                   16                53.0             9.91         5.0   \n",
       "15837                   14                 NaN             0.00         5.0   \n",
       "15838                   14                45.0            20.07         7.0   \n",
       "15839                   16                47.0             6.10         6.0   \n",
       "\n",
       "                  Events  WindDirDegrees           StateName  State  \n",
       "0                   Rain             215  NordrheinWestfalen     NW  \n",
       "1                   Rain             225  NordrheinWestfalen     NW  \n",
       "2                   Rain             240  NordrheinWestfalen     NW  \n",
       "3                   Rain             263  NordrheinWestfalen     NW  \n",
       "4                   Rain             268  NordrheinWestfalen     NW  \n",
       "...                  ...             ...                 ...    ...  \n",
       "15835               Rain             113            Saarland     SL  \n",
       "15836  Rain-Thunderstorm             213            Saarland     SL  \n",
       "15837               Rain             193            Saarland     SL  \n",
       "15838  Rain-Thunderstorm             147            Saarland     SL  \n",
       "15839               Rain             202            Saarland     SL  \n",
       "\n",
       "[15840 rows x 26 columns]"
      ]
     },
     "execution_count": 32,
     "metadata": {},
     "output_type": "execute_result"
    }
   ],
   "source": [
    "weather = join_df(weather, state_names, \"file\", \"StateName\")\n",
    "weather"
   ]
  },
  {
   "cell_type": "markdown",
   "metadata": {},
   "source": [
    "In pandas you can add new columns to a dataframe by simply defining it. We'll do this for googletrends by extracting dates and state names from the given data and adding those columns.\n",
    "\n",
    "We're also going to replace all instances of state name 'NI' to match the usage in the rest of the data: 'HB,NI'. This is a good opportunity to highlight pandas indexing. We can use `.loc[rows, cols]` to select a list of rows and a list of columns from the dataframe. In this case, we're selecting rows w/ statename 'NI' by using a boolean list `googletrend.State=='NI'` and selecting \"State\"."
   ]
  },
  {
   "cell_type": "code",
   "execution_count": 33,
   "metadata": {},
   "outputs": [
    {
     "data": {
      "text/plain": [
       "(                file                     week  trend        Date\n",
       " 0     Rossmann_DE_SN  2012-12-02 - 2012-12-08     96  2012-12-02\n",
       " 1     Rossmann_DE_SN  2012-12-09 - 2012-12-15     95  2012-12-09\n",
       " 2     Rossmann_DE_SN  2012-12-16 - 2012-12-22     91  2012-12-16\n",
       " 3     Rossmann_DE_SN  2012-12-23 - 2012-12-29     48  2012-12-23\n",
       " 4     Rossmann_DE_SN  2012-12-30 - 2013-01-05     67  2012-12-30\n",
       " ...              ...                      ...    ...         ...\n",
       " 2067  Rossmann_DE_SL  2015-08-30 - 2015-09-05     95  2015-08-30\n",
       " 2068  Rossmann_DE_SL  2015-09-06 - 2015-09-12     47  2015-09-06\n",
       " 2069  Rossmann_DE_SL  2015-09-13 - 2015-09-19     80  2015-09-13\n",
       " 2070  Rossmann_DE_SL  2015-09-20 - 2015-09-26     57  2015-09-20\n",
       " 2071  Rossmann_DE_SL  2015-09-27 - 2015-10-03      0  2015-09-27\n",
       " \n",
       " [2072 rows x 4 columns],\n",
       "                 file                     week  trend        Date State\n",
       " 0     Rossmann_DE_SN  2012-12-02 - 2012-12-08     96  2012-12-02    SN\n",
       " 1     Rossmann_DE_SN  2012-12-09 - 2012-12-15     95  2012-12-09    SN\n",
       " 2     Rossmann_DE_SN  2012-12-16 - 2012-12-22     91  2012-12-16    SN\n",
       " 3     Rossmann_DE_SN  2012-12-23 - 2012-12-29     48  2012-12-23    SN\n",
       " 4     Rossmann_DE_SN  2012-12-30 - 2013-01-05     67  2012-12-30    SN\n",
       " ...              ...                      ...    ...         ...   ...\n",
       " 2067  Rossmann_DE_SL  2015-08-30 - 2015-09-05     95  2015-08-30    SL\n",
       " 2068  Rossmann_DE_SL  2015-09-06 - 2015-09-12     47  2015-09-06    SL\n",
       " 2069  Rossmann_DE_SL  2015-09-13 - 2015-09-19     80  2015-09-13    SL\n",
       " 2070  Rossmann_DE_SL  2015-09-20 - 2015-09-26     57  2015-09-20    SL\n",
       " 2071  Rossmann_DE_SL  2015-09-27 - 2015-10-03      0  2015-09-27    SL\n",
       " \n",
       " [2072 rows x 5 columns],\n",
       "                 file                     week  trend        Date State\n",
       " 0     Rossmann_DE_SN  2012-12-02 - 2012-12-08     96  2012-12-02    SN\n",
       " 1     Rossmann_DE_SN  2012-12-09 - 2012-12-15     95  2012-12-09    SN\n",
       " 2     Rossmann_DE_SN  2012-12-16 - 2012-12-22     91  2012-12-16    SN\n",
       " 3     Rossmann_DE_SN  2012-12-23 - 2012-12-29     48  2012-12-23    SN\n",
       " 4     Rossmann_DE_SN  2012-12-30 - 2013-01-05     67  2012-12-30    SN\n",
       " ...              ...                      ...    ...         ...   ...\n",
       " 2067  Rossmann_DE_SL  2015-08-30 - 2015-09-05     95  2015-08-30    SL\n",
       " 2068  Rossmann_DE_SL  2015-09-06 - 2015-09-12     47  2015-09-06    SL\n",
       " 2069  Rossmann_DE_SL  2015-09-13 - 2015-09-19     80  2015-09-13    SL\n",
       " 2070  Rossmann_DE_SL  2015-09-20 - 2015-09-26     57  2015-09-20    SL\n",
       " 2071  Rossmann_DE_SL  2015-09-27 - 2015-10-03      0  2015-09-27    SL\n",
       " \n",
       " [2072 rows x 5 columns])"
      ]
     },
     "execution_count": 33,
     "metadata": {},
     "output_type": "execute_result"
    }
   ],
   "source": [
    "googletrend['Date'] = googletrend.week.str.split(' - ', expand=True)[0]\n",
    "a = googletrend.copy()\n",
    "googletrend['State'] = googletrend.file.str.split('_', expand=True)[2]\n",
    "b = googletrend.copy()\n",
    "googletrend.loc[googletrend.State=='NI', \"State\"] = 'HB,NI'\n",
    "c = googletrend.copy()\n",
    "a,b,c"
   ]
  },
  {
   "cell_type": "markdown",
   "metadata": {},
   "source": [
    "The following extracts particular date fields from a complete datetime for the purpose of constructing categoricals.\n",
    "\n",
    "You should *always* consider this feature extraction step when working with date-time. Without expanding your date-time into these additional fields, you can't capture any trend/cyclical behavior as a function of time at any of these granularities. We'll add to every table with a date field."
   ]
  },
  {
   "cell_type": "code",
   "execution_count": 34,
   "metadata": {},
   "outputs": [],
   "source": [
    "def add_datepart(df, fldname, drop=True, time=False):\n",
    "    \"Helper function that adds columns relevant to a date.\"\n",
    "    fld = df[fldname]\n",
    "    fld_dtype = fld.dtype\n",
    "    if isinstance(fld_dtype, pd.core.dtypes.dtypes.DatetimeTZDtype):\n",
    "        fld_dtype = np.datetime64\n",
    "\n",
    "    if not np.issubdtype(fld_dtype, np.datetime64):\n",
    "        df[fldname] = fld = pd.to_datetime(fld, infer_datetime_format=True)\n",
    "    targ_pre = re.sub('[Dd]ate$', '', fldname)\n",
    "    attr = ['Year', 'Month', 'Week', 'Day', 'Dayofweek', 'Dayofyear',\n",
    "            'Is_month_end', 'Is_month_start', 'Is_quarter_end', 'Is_quarter_start', 'Is_year_end', 'Is_year_start']\n",
    "    if time: attr = attr + ['Hour', 'Minute', 'Second']\n",
    "    for n in attr: df[targ_pre + n] = getattr(fld.dt, n.lower())\n",
    "    df[targ_pre + 'Elapsed'] = fld.astype(np.int64) // 10 ** 9\n",
    "    if drop: df.drop(fldname, axis=1, inplace=True)"
   ]
  },
  {
   "cell_type": "code",
   "execution_count": 42,
   "metadata": {},
   "outputs": [
    {
     "data": {
      "text/html": [
       "<div>\n",
       "<style scoped>\n",
       "    .dataframe tbody tr th:only-of-type {\n",
       "        vertical-align: middle;\n",
       "    }\n",
       "\n",
       "    .dataframe tbody tr th {\n",
       "        vertical-align: top;\n",
       "    }\n",
       "\n",
       "    .dataframe thead th {\n",
       "        text-align: right;\n",
       "    }\n",
       "</style>\n",
       "<table border=\"1\" class=\"dataframe\">\n",
       "  <thead>\n",
       "    <tr style=\"text-align: right;\">\n",
       "      <th></th>\n",
       "      <th>file</th>\n",
       "      <th>week</th>\n",
       "      <th>trend</th>\n",
       "      <th>Date</th>\n",
       "      <th>State</th>\n",
       "      <th>Year</th>\n",
       "      <th>Month</th>\n",
       "      <th>Week</th>\n",
       "      <th>Day</th>\n",
       "      <th>Dayofweek</th>\n",
       "      <th>Dayofyear</th>\n",
       "      <th>Is_month_end</th>\n",
       "      <th>Is_month_start</th>\n",
       "      <th>Is_quarter_end</th>\n",
       "      <th>Is_quarter_start</th>\n",
       "      <th>Is_year_end</th>\n",
       "      <th>Is_year_start</th>\n",
       "      <th>Elapsed</th>\n",
       "    </tr>\n",
       "  </thead>\n",
       "  <tbody>\n",
       "    <tr>\n",
       "      <td>0</td>\n",
       "      <td>Rossmann_DE_SN</td>\n",
       "      <td>2012-12-02 - 2012-12-08</td>\n",
       "      <td>96</td>\n",
       "      <td>2012-12-02</td>\n",
       "      <td>SN</td>\n",
       "      <td>2012</td>\n",
       "      <td>12</td>\n",
       "      <td>48</td>\n",
       "      <td>2</td>\n",
       "      <td>6</td>\n",
       "      <td>337</td>\n",
       "      <td>False</td>\n",
       "      <td>False</td>\n",
       "      <td>False</td>\n",
       "      <td>False</td>\n",
       "      <td>False</td>\n",
       "      <td>False</td>\n",
       "      <td>1354406400</td>\n",
       "    </tr>\n",
       "    <tr>\n",
       "      <td>1</td>\n",
       "      <td>Rossmann_DE_SN</td>\n",
       "      <td>2012-12-09 - 2012-12-15</td>\n",
       "      <td>95</td>\n",
       "      <td>2012-12-09</td>\n",
       "      <td>SN</td>\n",
       "      <td>2012</td>\n",
       "      <td>12</td>\n",
       "      <td>49</td>\n",
       "      <td>9</td>\n",
       "      <td>6</td>\n",
       "      <td>344</td>\n",
       "      <td>False</td>\n",
       "      <td>False</td>\n",
       "      <td>False</td>\n",
       "      <td>False</td>\n",
       "      <td>False</td>\n",
       "      <td>False</td>\n",
       "      <td>1355011200</td>\n",
       "    </tr>\n",
       "    <tr>\n",
       "      <td>2</td>\n",
       "      <td>Rossmann_DE_SN</td>\n",
       "      <td>2012-12-16 - 2012-12-22</td>\n",
       "      <td>91</td>\n",
       "      <td>2012-12-16</td>\n",
       "      <td>SN</td>\n",
       "      <td>2012</td>\n",
       "      <td>12</td>\n",
       "      <td>50</td>\n",
       "      <td>16</td>\n",
       "      <td>6</td>\n",
       "      <td>351</td>\n",
       "      <td>False</td>\n",
       "      <td>False</td>\n",
       "      <td>False</td>\n",
       "      <td>False</td>\n",
       "      <td>False</td>\n",
       "      <td>False</td>\n",
       "      <td>1355616000</td>\n",
       "    </tr>\n",
       "    <tr>\n",
       "      <td>3</td>\n",
       "      <td>Rossmann_DE_SN</td>\n",
       "      <td>2012-12-23 - 2012-12-29</td>\n",
       "      <td>48</td>\n",
       "      <td>2012-12-23</td>\n",
       "      <td>SN</td>\n",
       "      <td>2012</td>\n",
       "      <td>12</td>\n",
       "      <td>51</td>\n",
       "      <td>23</td>\n",
       "      <td>6</td>\n",
       "      <td>358</td>\n",
       "      <td>False</td>\n",
       "      <td>False</td>\n",
       "      <td>False</td>\n",
       "      <td>False</td>\n",
       "      <td>False</td>\n",
       "      <td>False</td>\n",
       "      <td>1356220800</td>\n",
       "    </tr>\n",
       "    <tr>\n",
       "      <td>4</td>\n",
       "      <td>Rossmann_DE_SN</td>\n",
       "      <td>2012-12-30 - 2013-01-05</td>\n",
       "      <td>67</td>\n",
       "      <td>2012-12-30</td>\n",
       "      <td>SN</td>\n",
       "      <td>2012</td>\n",
       "      <td>12</td>\n",
       "      <td>52</td>\n",
       "      <td>30</td>\n",
       "      <td>6</td>\n",
       "      <td>365</td>\n",
       "      <td>False</td>\n",
       "      <td>False</td>\n",
       "      <td>False</td>\n",
       "      <td>False</td>\n",
       "      <td>False</td>\n",
       "      <td>False</td>\n",
       "      <td>1356825600</td>\n",
       "    </tr>\n",
       "    <tr>\n",
       "      <td>...</td>\n",
       "      <td>...</td>\n",
       "      <td>...</td>\n",
       "      <td>...</td>\n",
       "      <td>...</td>\n",
       "      <td>...</td>\n",
       "      <td>...</td>\n",
       "      <td>...</td>\n",
       "      <td>...</td>\n",
       "      <td>...</td>\n",
       "      <td>...</td>\n",
       "      <td>...</td>\n",
       "      <td>...</td>\n",
       "      <td>...</td>\n",
       "      <td>...</td>\n",
       "      <td>...</td>\n",
       "      <td>...</td>\n",
       "      <td>...</td>\n",
       "      <td>...</td>\n",
       "    </tr>\n",
       "    <tr>\n",
       "      <td>2067</td>\n",
       "      <td>Rossmann_DE_SL</td>\n",
       "      <td>2015-08-30 - 2015-09-05</td>\n",
       "      <td>95</td>\n",
       "      <td>2015-08-30</td>\n",
       "      <td>SL</td>\n",
       "      <td>2015</td>\n",
       "      <td>8</td>\n",
       "      <td>35</td>\n",
       "      <td>30</td>\n",
       "      <td>6</td>\n",
       "      <td>242</td>\n",
       "      <td>False</td>\n",
       "      <td>False</td>\n",
       "      <td>False</td>\n",
       "      <td>False</td>\n",
       "      <td>False</td>\n",
       "      <td>False</td>\n",
       "      <td>1440892800</td>\n",
       "    </tr>\n",
       "    <tr>\n",
       "      <td>2068</td>\n",
       "      <td>Rossmann_DE_SL</td>\n",
       "      <td>2015-09-06 - 2015-09-12</td>\n",
       "      <td>47</td>\n",
       "      <td>2015-09-06</td>\n",
       "      <td>SL</td>\n",
       "      <td>2015</td>\n",
       "      <td>9</td>\n",
       "      <td>36</td>\n",
       "      <td>6</td>\n",
       "      <td>6</td>\n",
       "      <td>249</td>\n",
       "      <td>False</td>\n",
       "      <td>False</td>\n",
       "      <td>False</td>\n",
       "      <td>False</td>\n",
       "      <td>False</td>\n",
       "      <td>False</td>\n",
       "      <td>1441497600</td>\n",
       "    </tr>\n",
       "    <tr>\n",
       "      <td>2069</td>\n",
       "      <td>Rossmann_DE_SL</td>\n",
       "      <td>2015-09-13 - 2015-09-19</td>\n",
       "      <td>80</td>\n",
       "      <td>2015-09-13</td>\n",
       "      <td>SL</td>\n",
       "      <td>2015</td>\n",
       "      <td>9</td>\n",
       "      <td>37</td>\n",
       "      <td>13</td>\n",
       "      <td>6</td>\n",
       "      <td>256</td>\n",
       "      <td>False</td>\n",
       "      <td>False</td>\n",
       "      <td>False</td>\n",
       "      <td>False</td>\n",
       "      <td>False</td>\n",
       "      <td>False</td>\n",
       "      <td>1442102400</td>\n",
       "    </tr>\n",
       "    <tr>\n",
       "      <td>2070</td>\n",
       "      <td>Rossmann_DE_SL</td>\n",
       "      <td>2015-09-20 - 2015-09-26</td>\n",
       "      <td>57</td>\n",
       "      <td>2015-09-20</td>\n",
       "      <td>SL</td>\n",
       "      <td>2015</td>\n",
       "      <td>9</td>\n",
       "      <td>38</td>\n",
       "      <td>20</td>\n",
       "      <td>6</td>\n",
       "      <td>263</td>\n",
       "      <td>False</td>\n",
       "      <td>False</td>\n",
       "      <td>False</td>\n",
       "      <td>False</td>\n",
       "      <td>False</td>\n",
       "      <td>False</td>\n",
       "      <td>1442707200</td>\n",
       "    </tr>\n",
       "    <tr>\n",
       "      <td>2071</td>\n",
       "      <td>Rossmann_DE_SL</td>\n",
       "      <td>2015-09-27 - 2015-10-03</td>\n",
       "      <td>0</td>\n",
       "      <td>2015-09-27</td>\n",
       "      <td>SL</td>\n",
       "      <td>2015</td>\n",
       "      <td>9</td>\n",
       "      <td>39</td>\n",
       "      <td>27</td>\n",
       "      <td>6</td>\n",
       "      <td>270</td>\n",
       "      <td>False</td>\n",
       "      <td>False</td>\n",
       "      <td>False</td>\n",
       "      <td>False</td>\n",
       "      <td>False</td>\n",
       "      <td>False</td>\n",
       "      <td>1443312000</td>\n",
       "    </tr>\n",
       "  </tbody>\n",
       "</table>\n",
       "<p>2072 rows × 18 columns</p>\n",
       "</div>"
      ],
      "text/plain": [
       "                file                     week  trend       Date State  Year  \\\n",
       "0     Rossmann_DE_SN  2012-12-02 - 2012-12-08     96 2012-12-02    SN  2012   \n",
       "1     Rossmann_DE_SN  2012-12-09 - 2012-12-15     95 2012-12-09    SN  2012   \n",
       "2     Rossmann_DE_SN  2012-12-16 - 2012-12-22     91 2012-12-16    SN  2012   \n",
       "3     Rossmann_DE_SN  2012-12-23 - 2012-12-29     48 2012-12-23    SN  2012   \n",
       "4     Rossmann_DE_SN  2012-12-30 - 2013-01-05     67 2012-12-30    SN  2012   \n",
       "...              ...                      ...    ...        ...   ...   ...   \n",
       "2067  Rossmann_DE_SL  2015-08-30 - 2015-09-05     95 2015-08-30    SL  2015   \n",
       "2068  Rossmann_DE_SL  2015-09-06 - 2015-09-12     47 2015-09-06    SL  2015   \n",
       "2069  Rossmann_DE_SL  2015-09-13 - 2015-09-19     80 2015-09-13    SL  2015   \n",
       "2070  Rossmann_DE_SL  2015-09-20 - 2015-09-26     57 2015-09-20    SL  2015   \n",
       "2071  Rossmann_DE_SL  2015-09-27 - 2015-10-03      0 2015-09-27    SL  2015   \n",
       "\n",
       "      Month  Week  Day  Dayofweek  Dayofyear  Is_month_end  Is_month_start  \\\n",
       "0        12    48    2          6        337         False           False   \n",
       "1        12    49    9          6        344         False           False   \n",
       "2        12    50   16          6        351         False           False   \n",
       "3        12    51   23          6        358         False           False   \n",
       "4        12    52   30          6        365         False           False   \n",
       "...     ...   ...  ...        ...        ...           ...             ...   \n",
       "2067      8    35   30          6        242         False           False   \n",
       "2068      9    36    6          6        249         False           False   \n",
       "2069      9    37   13          6        256         False           False   \n",
       "2070      9    38   20          6        263         False           False   \n",
       "2071      9    39   27          6        270         False           False   \n",
       "\n",
       "      Is_quarter_end  Is_quarter_start  Is_year_end  Is_year_start     Elapsed  \n",
       "0              False             False        False          False  1354406400  \n",
       "1              False             False        False          False  1355011200  \n",
       "2              False             False        False          False  1355616000  \n",
       "3              False             False        False          False  1356220800  \n",
       "4              False             False        False          False  1356825600  \n",
       "...              ...               ...          ...            ...         ...  \n",
       "2067           False             False        False          False  1440892800  \n",
       "2068           False             False        False          False  1441497600  \n",
       "2069           False             False        False          False  1442102400  \n",
       "2070           False             False        False          False  1442707200  \n",
       "2071           False             False        False          False  1443312000  \n",
       "\n",
       "[2072 rows x 18 columns]"
      ]
     },
     "execution_count": 42,
     "metadata": {},
     "output_type": "execute_result"
    }
   ],
   "source": [
    "add_datepart(weather, \"Date\", drop=False)\n",
    "add_datepart(googletrend, \"Date\", drop=False)\n",
    "add_datepart(train, \"Date\", drop=False)\n",
    "add_datepart(test, \"Date\", drop=False)\n",
    "googletrend"
   ]
  },
  {
   "cell_type": "markdown",
   "metadata": {},
   "source": [
    "The Google trends data has a special category for the whole of the Germany - we'll pull that out so we can use it explicitly."
   ]
  },
  {
   "cell_type": "code",
   "execution_count": 44,
   "metadata": {},
   "outputs": [
    {
     "data": {
      "text/html": [
       "<div>\n",
       "<style scoped>\n",
       "    .dataframe tbody tr th:only-of-type {\n",
       "        vertical-align: middle;\n",
       "    }\n",
       "\n",
       "    .dataframe tbody tr th {\n",
       "        vertical-align: top;\n",
       "    }\n",
       "\n",
       "    .dataframe thead th {\n",
       "        text-align: right;\n",
       "    }\n",
       "</style>\n",
       "<table border=\"1\" class=\"dataframe\">\n",
       "  <thead>\n",
       "    <tr style=\"text-align: right;\">\n",
       "      <th></th>\n",
       "      <th>file</th>\n",
       "      <th>week</th>\n",
       "      <th>trend</th>\n",
       "      <th>Date</th>\n",
       "      <th>State</th>\n",
       "      <th>Year</th>\n",
       "      <th>Month</th>\n",
       "      <th>Week</th>\n",
       "      <th>Day</th>\n",
       "      <th>Dayofweek</th>\n",
       "      <th>Dayofyear</th>\n",
       "      <th>Is_month_end</th>\n",
       "      <th>Is_month_start</th>\n",
       "      <th>Is_quarter_end</th>\n",
       "      <th>Is_quarter_start</th>\n",
       "      <th>Is_year_end</th>\n",
       "      <th>Is_year_start</th>\n",
       "      <th>Elapsed</th>\n",
       "    </tr>\n",
       "  </thead>\n",
       "  <tbody>\n",
       "    <tr>\n",
       "      <td>148</td>\n",
       "      <td>Rossmann_DE</td>\n",
       "      <td>2012-12-02 - 2012-12-08</td>\n",
       "      <td>77</td>\n",
       "      <td>2012-12-02</td>\n",
       "      <td>None</td>\n",
       "      <td>2012</td>\n",
       "      <td>12</td>\n",
       "      <td>48</td>\n",
       "      <td>2</td>\n",
       "      <td>6</td>\n",
       "      <td>337</td>\n",
       "      <td>False</td>\n",
       "      <td>False</td>\n",
       "      <td>False</td>\n",
       "      <td>False</td>\n",
       "      <td>False</td>\n",
       "      <td>False</td>\n",
       "      <td>1354406400</td>\n",
       "    </tr>\n",
       "    <tr>\n",
       "      <td>149</td>\n",
       "      <td>Rossmann_DE</td>\n",
       "      <td>2012-12-09 - 2012-12-15</td>\n",
       "      <td>76</td>\n",
       "      <td>2012-12-09</td>\n",
       "      <td>None</td>\n",
       "      <td>2012</td>\n",
       "      <td>12</td>\n",
       "      <td>49</td>\n",
       "      <td>9</td>\n",
       "      <td>6</td>\n",
       "      <td>344</td>\n",
       "      <td>False</td>\n",
       "      <td>False</td>\n",
       "      <td>False</td>\n",
       "      <td>False</td>\n",
       "      <td>False</td>\n",
       "      <td>False</td>\n",
       "      <td>1355011200</td>\n",
       "    </tr>\n",
       "    <tr>\n",
       "      <td>150</td>\n",
       "      <td>Rossmann_DE</td>\n",
       "      <td>2012-12-16 - 2012-12-22</td>\n",
       "      <td>85</td>\n",
       "      <td>2012-12-16</td>\n",
       "      <td>None</td>\n",
       "      <td>2012</td>\n",
       "      <td>12</td>\n",
       "      <td>50</td>\n",
       "      <td>16</td>\n",
       "      <td>6</td>\n",
       "      <td>351</td>\n",
       "      <td>False</td>\n",
       "      <td>False</td>\n",
       "      <td>False</td>\n",
       "      <td>False</td>\n",
       "      <td>False</td>\n",
       "      <td>False</td>\n",
       "      <td>1355616000</td>\n",
       "    </tr>\n",
       "    <tr>\n",
       "      <td>151</td>\n",
       "      <td>Rossmann_DE</td>\n",
       "      <td>2012-12-23 - 2012-12-29</td>\n",
       "      <td>59</td>\n",
       "      <td>2012-12-23</td>\n",
       "      <td>None</td>\n",
       "      <td>2012</td>\n",
       "      <td>12</td>\n",
       "      <td>51</td>\n",
       "      <td>23</td>\n",
       "      <td>6</td>\n",
       "      <td>358</td>\n",
       "      <td>False</td>\n",
       "      <td>False</td>\n",
       "      <td>False</td>\n",
       "      <td>False</td>\n",
       "      <td>False</td>\n",
       "      <td>False</td>\n",
       "      <td>1356220800</td>\n",
       "    </tr>\n",
       "    <tr>\n",
       "      <td>152</td>\n",
       "      <td>Rossmann_DE</td>\n",
       "      <td>2012-12-30 - 2013-01-05</td>\n",
       "      <td>61</td>\n",
       "      <td>2012-12-30</td>\n",
       "      <td>None</td>\n",
       "      <td>2012</td>\n",
       "      <td>12</td>\n",
       "      <td>52</td>\n",
       "      <td>30</td>\n",
       "      <td>6</td>\n",
       "      <td>365</td>\n",
       "      <td>False</td>\n",
       "      <td>False</td>\n",
       "      <td>False</td>\n",
       "      <td>False</td>\n",
       "      <td>False</td>\n",
       "      <td>False</td>\n",
       "      <td>1356825600</td>\n",
       "    </tr>\n",
       "    <tr>\n",
       "      <td>...</td>\n",
       "      <td>...</td>\n",
       "      <td>...</td>\n",
       "      <td>...</td>\n",
       "      <td>...</td>\n",
       "      <td>...</td>\n",
       "      <td>...</td>\n",
       "      <td>...</td>\n",
       "      <td>...</td>\n",
       "      <td>...</td>\n",
       "      <td>...</td>\n",
       "      <td>...</td>\n",
       "      <td>...</td>\n",
       "      <td>...</td>\n",
       "      <td>...</td>\n",
       "      <td>...</td>\n",
       "      <td>...</td>\n",
       "      <td>...</td>\n",
       "      <td>...</td>\n",
       "    </tr>\n",
       "    <tr>\n",
       "      <td>291</td>\n",
       "      <td>Rossmann_DE</td>\n",
       "      <td>2015-08-30 - 2015-09-05</td>\n",
       "      <td>78</td>\n",
       "      <td>2015-08-30</td>\n",
       "      <td>None</td>\n",
       "      <td>2015</td>\n",
       "      <td>8</td>\n",
       "      <td>35</td>\n",
       "      <td>30</td>\n",
       "      <td>6</td>\n",
       "      <td>242</td>\n",
       "      <td>False</td>\n",
       "      <td>False</td>\n",
       "      <td>False</td>\n",
       "      <td>False</td>\n",
       "      <td>False</td>\n",
       "      <td>False</td>\n",
       "      <td>1440892800</td>\n",
       "    </tr>\n",
       "    <tr>\n",
       "      <td>292</td>\n",
       "      <td>Rossmann_DE</td>\n",
       "      <td>2015-09-06 - 2015-09-12</td>\n",
       "      <td>71</td>\n",
       "      <td>2015-09-06</td>\n",
       "      <td>None</td>\n",
       "      <td>2015</td>\n",
       "      <td>9</td>\n",
       "      <td>36</td>\n",
       "      <td>6</td>\n",
       "      <td>6</td>\n",
       "      <td>249</td>\n",
       "      <td>False</td>\n",
       "      <td>False</td>\n",
       "      <td>False</td>\n",
       "      <td>False</td>\n",
       "      <td>False</td>\n",
       "      <td>False</td>\n",
       "      <td>1441497600</td>\n",
       "    </tr>\n",
       "    <tr>\n",
       "      <td>293</td>\n",
       "      <td>Rossmann_DE</td>\n",
       "      <td>2015-09-13 - 2015-09-19</td>\n",
       "      <td>77</td>\n",
       "      <td>2015-09-13</td>\n",
       "      <td>None</td>\n",
       "      <td>2015</td>\n",
       "      <td>9</td>\n",
       "      <td>37</td>\n",
       "      <td>13</td>\n",
       "      <td>6</td>\n",
       "      <td>256</td>\n",
       "      <td>False</td>\n",
       "      <td>False</td>\n",
       "      <td>False</td>\n",
       "      <td>False</td>\n",
       "      <td>False</td>\n",
       "      <td>False</td>\n",
       "      <td>1442102400</td>\n",
       "    </tr>\n",
       "    <tr>\n",
       "      <td>294</td>\n",
       "      <td>Rossmann_DE</td>\n",
       "      <td>2015-09-20 - 2015-09-26</td>\n",
       "      <td>67</td>\n",
       "      <td>2015-09-20</td>\n",
       "      <td>None</td>\n",
       "      <td>2015</td>\n",
       "      <td>9</td>\n",
       "      <td>38</td>\n",
       "      <td>20</td>\n",
       "      <td>6</td>\n",
       "      <td>263</td>\n",
       "      <td>False</td>\n",
       "      <td>False</td>\n",
       "      <td>False</td>\n",
       "      <td>False</td>\n",
       "      <td>False</td>\n",
       "      <td>False</td>\n",
       "      <td>1442707200</td>\n",
       "    </tr>\n",
       "    <tr>\n",
       "      <td>295</td>\n",
       "      <td>Rossmann_DE</td>\n",
       "      <td>2015-09-27 - 2015-10-03</td>\n",
       "      <td>71</td>\n",
       "      <td>2015-09-27</td>\n",
       "      <td>None</td>\n",
       "      <td>2015</td>\n",
       "      <td>9</td>\n",
       "      <td>39</td>\n",
       "      <td>27</td>\n",
       "      <td>6</td>\n",
       "      <td>270</td>\n",
       "      <td>False</td>\n",
       "      <td>False</td>\n",
       "      <td>False</td>\n",
       "      <td>False</td>\n",
       "      <td>False</td>\n",
       "      <td>False</td>\n",
       "      <td>1443312000</td>\n",
       "    </tr>\n",
       "  </tbody>\n",
       "</table>\n",
       "<p>148 rows × 18 columns</p>\n",
       "</div>"
      ],
      "text/plain": [
       "            file                     week  trend       Date State  Year  \\\n",
       "148  Rossmann_DE  2012-12-02 - 2012-12-08     77 2012-12-02  None  2012   \n",
       "149  Rossmann_DE  2012-12-09 - 2012-12-15     76 2012-12-09  None  2012   \n",
       "150  Rossmann_DE  2012-12-16 - 2012-12-22     85 2012-12-16  None  2012   \n",
       "151  Rossmann_DE  2012-12-23 - 2012-12-29     59 2012-12-23  None  2012   \n",
       "152  Rossmann_DE  2012-12-30 - 2013-01-05     61 2012-12-30  None  2012   \n",
       "..           ...                      ...    ...        ...   ...   ...   \n",
       "291  Rossmann_DE  2015-08-30 - 2015-09-05     78 2015-08-30  None  2015   \n",
       "292  Rossmann_DE  2015-09-06 - 2015-09-12     71 2015-09-06  None  2015   \n",
       "293  Rossmann_DE  2015-09-13 - 2015-09-19     77 2015-09-13  None  2015   \n",
       "294  Rossmann_DE  2015-09-20 - 2015-09-26     67 2015-09-20  None  2015   \n",
       "295  Rossmann_DE  2015-09-27 - 2015-10-03     71 2015-09-27  None  2015   \n",
       "\n",
       "     Month  Week  Day  Dayofweek  Dayofyear  Is_month_end  Is_month_start  \\\n",
       "148     12    48    2          6        337         False           False   \n",
       "149     12    49    9          6        344         False           False   \n",
       "150     12    50   16          6        351         False           False   \n",
       "151     12    51   23          6        358         False           False   \n",
       "152     12    52   30          6        365         False           False   \n",
       "..     ...   ...  ...        ...        ...           ...             ...   \n",
       "291      8    35   30          6        242         False           False   \n",
       "292      9    36    6          6        249         False           False   \n",
       "293      9    37   13          6        256         False           False   \n",
       "294      9    38   20          6        263         False           False   \n",
       "295      9    39   27          6        270         False           False   \n",
       "\n",
       "     Is_quarter_end  Is_quarter_start  Is_year_end  Is_year_start     Elapsed  \n",
       "148           False             False        False          False  1354406400  \n",
       "149           False             False        False          False  1355011200  \n",
       "150           False             False        False          False  1355616000  \n",
       "151           False             False        False          False  1356220800  \n",
       "152           False             False        False          False  1356825600  \n",
       "..              ...               ...          ...            ...         ...  \n",
       "291           False             False        False          False  1440892800  \n",
       "292           False             False        False          False  1441497600  \n",
       "293           False             False        False          False  1442102400  \n",
       "294           False             False        False          False  1442707200  \n",
       "295           False             False        False          False  1443312000  \n",
       "\n",
       "[148 rows x 18 columns]"
      ]
     },
     "execution_count": 44,
     "metadata": {},
     "output_type": "execute_result"
    }
   ],
   "source": [
    "trend_de = googletrend[googletrend.file == 'Rossmann_DE']\n",
    "trend_de"
   ]
  },
  {
   "cell_type": "markdown",
   "metadata": {},
   "source": [
    "Now we can outer join all of our data into a single dataframe. Recall that in outer joins everytime a value in the joining field on the left table does not have a corresponding value on the right table, the corresponding row in the new table has Null values for all right table fields. One way to check that all records are consistent and complete is to check for Null values post-join, as we do here.\n",
    "\n",
    "*Aside*: Why not just do an inner join?\n",
    "If you are assuming that all records are complete and match on the field you desire, an inner join will do the same thing as an outer join. However, in the event you are wrong or a mistake is made, an outer join followed by a null-check will catch it. (Comparing before/after # of rows for inner join is equivalent, but requires keeping track of before/after row #'s. Outer join is easier.)"
   ]
  },
  {
   "cell_type": "code",
   "execution_count": 45,
   "metadata": {},
   "outputs": [
    {
     "data": {
      "text/plain": [
       "0"
      ]
     },
     "execution_count": 45,
     "metadata": {},
     "output_type": "execute_result"
    }
   ],
   "source": [
    "store = join_df(store, store_states, \"Store\")\n",
    "len(store[store.State.isnull()])"
   ]
  },
  {
   "cell_type": "code",
   "execution_count": 46,
   "metadata": {},
   "outputs": [
    {
     "data": {
      "text/plain": [
       "(0, 0)"
      ]
     },
     "execution_count": 46,
     "metadata": {},
     "output_type": "execute_result"
    }
   ],
   "source": [
    "joined = join_df(train, store, \"Store\")\n",
    "joined_test = join_df(test, store, \"Store\")\n",
    "len(joined[joined.StoreType.isnull()]),len(joined_test[joined_test.StoreType.isnull()])"
   ]
  },
  {
   "cell_type": "code",
   "execution_count": 47,
   "metadata": {},
   "outputs": [
    {
     "data": {
      "text/plain": [
       "(0, 0)"
      ]
     },
     "execution_count": 47,
     "metadata": {},
     "output_type": "execute_result"
    }
   ],
   "source": [
    "joined = join_df(joined, googletrend, [\"State\",\"Year\", \"Week\"])\n",
    "joined_test = join_df(joined_test, googletrend, [\"State\",\"Year\", \"Week\"])\n",
    "len(joined[joined.trend.isnull()]),len(joined_test[joined_test.trend.isnull()])"
   ]
  },
  {
   "cell_type": "code",
   "execution_count": 48,
   "metadata": {},
   "outputs": [
    {
     "data": {
      "text/plain": [
       "(0, 0)"
      ]
     },
     "execution_count": 48,
     "metadata": {},
     "output_type": "execute_result"
    }
   ],
   "source": [
    "joined = joined.merge(trend_de, 'left', [\"Year\", \"Week\"], suffixes=('', '_DE'))\n",
    "joined_test = joined_test.merge(trend_de, 'left', [\"Year\", \"Week\"], suffixes=('', '_DE'))\n",
    "len(joined[joined.trend_DE.isnull()]),len(joined_test[joined_test.trend_DE.isnull()])"
   ]
  },
  {
   "cell_type": "code",
   "execution_count": 49,
   "metadata": {},
   "outputs": [
    {
     "data": {
      "text/plain": [
       "(0, 0)"
      ]
     },
     "execution_count": 49,
     "metadata": {},
     "output_type": "execute_result"
    }
   ],
   "source": [
    "joined = join_df(joined, weather, [\"State\",\"Date\"])\n",
    "joined_test = join_df(joined_test, weather, [\"State\",\"Date\"])\n",
    "len(joined[joined.Mean_TemperatureC.isnull()]),len(joined_test[joined_test.Mean_TemperatureC.isnull()])"
   ]
  },
  {
   "cell_type": "code",
   "execution_count": 50,
   "metadata": {},
   "outputs": [],
   "source": [
    "for df in (joined, joined_test):\n",
    "    for c in df.columns:\n",
    "        if c.endswith('_y'):\n",
    "            if c in df.columns: df.drop(c, inplace=True, axis=1)\n"
   ]
  },
  {
   "cell_type": "code",
   "execution_count": 52,
   "metadata": {},
   "outputs": [
    {
     "data": {
      "text/plain": [
       "(         Store  DayOfWeek       Date  Sales  Customers  Open  Promo  \\\n",
       " 0            1          5 2015-07-31   5263        555     1      1   \n",
       " 1            2          5 2015-07-31   6064        625     1      1   \n",
       " 2            3          5 2015-07-31   8314        821     1      1   \n",
       " 3            4          5 2015-07-31  13995       1498     1      1   \n",
       " 4            5          5 2015-07-31   4822        559     1      1   \n",
       " ...        ...        ...        ...    ...        ...   ...    ...   \n",
       " 1017204   1111          2 2013-01-01      0          0     0      0   \n",
       " 1017205   1112          2 2013-01-01      0          0     0      0   \n",
       " 1017206   1113          2 2013-01-01      0          0     0      0   \n",
       " 1017207   1114          2 2013-01-01      0          0     0      0   \n",
       " 1017208   1115          2 2013-01-01      0          0     0      0   \n",
       " \n",
       "          StateHoliday  SchoolHoliday  Year  ...  Mean_VisibilityKm  \\\n",
       " 0               False              1  2015  ...               15.0   \n",
       " 1               False              1  2015  ...               10.0   \n",
       " 2               False              1  2015  ...               14.0   \n",
       " 3               False              1  2015  ...               10.0   \n",
       " 4               False              1  2015  ...               10.0   \n",
       " ...               ...            ...   ...  ...                ...   \n",
       " 1017204          True              1  2013  ...               12.0   \n",
       " 1017205          True              1  2013  ...               12.0   \n",
       " 1017206          True              1  2013  ...                8.0   \n",
       " 1017207          True              1  2013  ...               11.0   \n",
       " 1017208          True              1  2013  ...               12.0   \n",
       " \n",
       "          Min_VisibilitykM  Max_Wind_SpeedKm_h  Mean_Wind_SpeedKm_h  \\\n",
       " 0                    10.0                  24                   11   \n",
       " 1                    10.0                  14                   11   \n",
       " 2                    10.0                  14                    5   \n",
       " 3                    10.0                  23                   16   \n",
       " 4                    10.0                  14                   11   \n",
       " ...                   ...                 ...                  ...   \n",
       " 1017204               4.0                  39                   26   \n",
       " 1017205               4.0                  39                   26   \n",
       " 1017206               5.0                  23                   16   \n",
       " 1017207               6.0                  40                   23   \n",
       " 1017208              10.0                  23                   14   \n",
       " \n",
       "          Max_Gust_SpeedKm_h  Precipitationmm  CloudCover  Events  \\\n",
       " 0                       NaN             0.00         1.0     Fog   \n",
       " 1                       NaN             0.00         4.0     Fog   \n",
       " 2                       NaN             0.00         2.0     Fog   \n",
       " 3                       NaN             0.00         6.0     NaN   \n",
       " 4                       NaN             0.00         4.0     NaN   \n",
       " ...                     ...              ...         ...     ...   \n",
       " 1017204                58.0             5.08         6.0    Rain   \n",
       " 1017205                58.0             5.08         6.0    Rain   \n",
       " 1017206                 NaN             0.00         6.0    Rain   \n",
       " 1017207                63.0             6.10         6.0    Rain   \n",
       " 1017208                39.0             2.03         6.0    Rain   \n",
       " \n",
       "          WindDirDegrees           StateName  \n",
       " 0                    13              Hessen  \n",
       " 1                   309          Thueringen  \n",
       " 2                   354  NordrheinWestfalen  \n",
       " 3                   282              Berlin  \n",
       " 4                   290             Sachsen  \n",
       " ...                 ...                 ...  \n",
       " 1017204             215  NordrheinWestfalen  \n",
       " 1017205             215  NordrheinWestfalen  \n",
       " 1017206             251   SchleswigHolstein  \n",
       " 1017207             234             Hamburg  \n",
       " 1017208             206              Hessen  \n",
       " \n",
       " [1017209 rows x 74 columns],\n",
       "           Id  Store  DayOfWeek       Date  Open  Promo  StateHoliday  \\\n",
       " 0          1      1          4 2015-09-17   1.0      1         False   \n",
       " 1          2      3          4 2015-09-17   1.0      1         False   \n",
       " 2          3      7          4 2015-09-17   1.0      1         False   \n",
       " 3          4      8          4 2015-09-17   1.0      1         False   \n",
       " 4          5      9          4 2015-09-17   1.0      1         False   \n",
       " ...      ...    ...        ...        ...   ...    ...           ...   \n",
       " 41083  41084   1111          6 2015-08-01   1.0      0         False   \n",
       " 41084  41085   1112          6 2015-08-01   1.0      0         False   \n",
       " 41085  41086   1113          6 2015-08-01   1.0      0         False   \n",
       " 41086  41087   1114          6 2015-08-01   1.0      0         False   \n",
       " 41087  41088   1115          6 2015-08-01   1.0      0         False   \n",
       " \n",
       "        SchoolHoliday  Year  Month  ...  Mean_VisibilityKm  Min_VisibilitykM  \\\n",
       " 0                  0  2015      9  ...               12.0               7.0   \n",
       " 1                  0  2015      9  ...               12.0               8.0   \n",
       " 2                  0  2015      9  ...               10.0               2.0   \n",
       " 3                  0  2015      9  ...               10.0               2.0   \n",
       " 4                  0  2015      9  ...               12.0               8.0   \n",
       " ...              ...   ...    ...  ...                ...               ...   \n",
       " 41083              0  2015      8  ...               10.0              10.0   \n",
       " 41084              0  2015      8  ...               10.0              10.0   \n",
       " 41085              0  2015      8  ...               20.0               6.0   \n",
       " 41086              0  2015      8  ...               13.0              10.0   \n",
       " 41087              1  2015      8  ...                NaN               NaN   \n",
       " \n",
       "        Max_Wind_SpeedKm_h  Mean_Wind_SpeedKm_h  Max_Gust_SpeedKm_h  \\\n",
       " 0                      29                   14                 NaN   \n",
       " 1                      37                   26                53.0   \n",
       " 2                      29                   14                45.0   \n",
       " 3                      29                   14                45.0   \n",
       " 4                      37                   26                53.0   \n",
       " ...                   ...                  ...                 ...   \n",
       " 41083                  14                   10                 NaN   \n",
       " 41084                  14                   10                 NaN   \n",
       " 41085                  21                    6                 NaN   \n",
       " 41086                  19                    6                 NaN   \n",
       " 41087                  23                   14                 NaN   \n",
       " \n",
       "        Precipitationmm  CloudCover  Events  WindDirDegrees           StateName  \n",
       " 0                 7.11         6.0    Rain             191              Hessen  \n",
       " 1                 3.05         6.0    Rain             187  NordrheinWestfalen  \n",
       " 2                 0.76         5.0    Rain             209   SchleswigHolstein  \n",
       " 3                 0.76         5.0    Rain             209   SchleswigHolstein  \n",
       " 4                 3.05         6.0    Rain             187  NordrheinWestfalen  \n",
       " ...                ...         ...     ...             ...                 ...  \n",
       " 41083             0.00         6.0     NaN             354  NordrheinWestfalen  \n",
       " 41084             0.00         6.0     NaN             354  NordrheinWestfalen  \n",
       " 41085             0.00         3.0     Fog              88   SchleswigHolstein  \n",
       " 41086             0.00         6.0     Fog             102             Hamburg  \n",
       " 41087             0.00         NaN     NaN              55              Hessen  \n",
       " \n",
       " [41088 rows x 73 columns])"
      ]
     },
     "execution_count": 52,
     "metadata": {},
     "output_type": "execute_result"
    }
   ],
   "source": [
    "joined,joined_test"
   ]
  },
  {
   "cell_type": "markdown",
   "metadata": {},
   "source": [
    "Next we'll fill in missing values to avoid complications with `NA`'s. `NA` (not available) is how Pandas indicates missing values; many models have problems when missing values are present, so it's always important to think about how to deal with them. In these cases, we are picking an arbitrary *signal value* that doesn't otherwise appear in the data."
   ]
  },
  {
   "cell_type": "code",
   "execution_count": 51,
   "metadata": {},
   "outputs": [],
   "source": [
    "for df in (joined,joined_test):\n",
    "    df['CompetitionOpenSinceYear'] = df.CompetitionOpenSinceYear.fillna(1900).astype(np.int32)\n",
    "    df['CompetitionOpenSinceMonth'] = df.CompetitionOpenSinceMonth.fillna(1).astype(np.int32)\n",
    "    df['Promo2SinceYear'] = df.Promo2SinceYear.fillna(1900).astype(np.int32)\n",
    "    df['Promo2SinceWeek'] = df.Promo2SinceWeek.fillna(1).astype(np.int32)"
   ]
  },
  {
   "cell_type": "markdown",
   "metadata": {},
   "source": [
    "Next we'll extract features \"CompetitionOpenSince\" and \"CompetitionDaysOpen\". Note the use of `apply()` in mapping a function across dataframe values."
   ]
  },
  {
   "cell_type": "code",
   "execution_count": 53,
   "metadata": {},
   "outputs": [],
   "source": [
    "for df in (joined,joined_test):\n",
    "    df[\"CompetitionOpenSince\"] = pd.to_datetime(dict(year=df.CompetitionOpenSinceYear, \n",
    "                                                     month=df.CompetitionOpenSinceMonth, day=15))\n",
    "    df[\"CompetitionDaysOpen\"] = df.Date.subtract(df.CompetitionOpenSince).dt.days"
   ]
  },
  {
   "cell_type": "markdown",
   "metadata": {},
   "source": [
    "We'll replace some erroneous / outlying data."
   ]
  },
  {
   "cell_type": "code",
   "execution_count": 54,
   "metadata": {},
   "outputs": [],
   "source": [
    "for df in (joined,joined_test):\n",
    "    df.loc[df.CompetitionDaysOpen<0, \"CompetitionDaysOpen\"] = 0\n",
    "    df.loc[df.CompetitionOpenSinceYear<1990, \"CompetitionDaysOpen\"] = 0"
   ]
  },
  {
   "cell_type": "markdown",
   "metadata": {},
   "source": [
    "We add \"CompetitionMonthsOpen\" field, limiting the maximum to 2 years to limit number of unique categories."
   ]
  },
  {
   "cell_type": "code",
   "execution_count": 55,
   "metadata": {},
   "outputs": [
    {
     "data": {
      "text/plain": [
       "array([24,  3, 19,  9,  0, 16, 17,  7, 15, 22, 11, 13,  2, 23, 12,  4, 10,  1, 14, 20,  8, 18,  6, 21,  5], dtype=int64)"
      ]
     },
     "execution_count": 55,
     "metadata": {},
     "output_type": "execute_result"
    }
   ],
   "source": [
    "for df in (joined,joined_test):\n",
    "    df[\"CompetitionMonthsOpen\"] = df[\"CompetitionDaysOpen\"]//30\n",
    "    df.loc[df.CompetitionMonthsOpen>24, \"CompetitionMonthsOpen\"] = 24\n",
    "joined.CompetitionMonthsOpen.unique()"
   ]
  },
  {
   "cell_type": "markdown",
   "metadata": {},
   "source": [
    "Same process for Promo dates. You may need to install the `isoweek` package first."
   ]
  },
  {
   "cell_type": "code",
   "execution_count": 57,
   "metadata": {},
   "outputs": [
    {
     "name": "stdout",
     "output_type": "stream",
     "text": [
      "Collecting isoweek\n",
      "  Downloading https://files.pythonhosted.org/packages/c2/d4/fe7e2637975c476734fcbf53776e650a29680194eb0dd21dbdc020ca92de/isoweek-1.3.3-py2.py3-none-any.whl\n",
      "Installing collected packages: isoweek\n",
      "Successfully installed isoweek-1.3.3\n"
     ]
    }
   ],
   "source": [
    "# If needed, uncomment:\n",
    "! pip install isoweek"
   ]
  },
  {
   "cell_type": "code",
   "execution_count": 58,
   "metadata": {},
   "outputs": [],
   "source": [
    "from isoweek import Week\n",
    "for df in (joined,joined_test):\n",
    "    df[\"Promo2Since\"] = pd.to_datetime(df.apply(lambda x: Week(\n",
    "        x.Promo2SinceYear, x.Promo2SinceWeek).monday(), axis=1))\n",
    "    df[\"Promo2Days\"] = df.Date.subtract(df[\"Promo2Since\"]).dt.days"
   ]
  },
  {
   "cell_type": "code",
   "execution_count": 59,
   "metadata": {},
   "outputs": [],
   "source": [
    "for df in (joined,joined_test):\n",
    "    df.loc[df.Promo2Days<0, \"Promo2Days\"] = 0\n",
    "    df.loc[df.Promo2SinceYear<1990, \"Promo2Days\"] = 0\n",
    "    df[\"Promo2Weeks\"] = df[\"Promo2Days\"]//7\n",
    "    df.loc[df.Promo2Weeks<0, \"Promo2Weeks\"] = 0\n",
    "    df.loc[df.Promo2Weeks>25, \"Promo2Weeks\"] = 25\n",
    "    df.Promo2Weeks.unique()"
   ]
  },
  {
   "cell_type": "code",
   "execution_count": 60,
   "metadata": {},
   "outputs": [],
   "source": [
    "joined.to_pickle(PATH/'joined')\n",
    "joined_test.to_pickle(PATH/'joined_test')"
   ]
  },
  {
   "cell_type": "markdown",
   "metadata": {},
   "source": [
    "## Durations"
   ]
  },
  {
   "cell_type": "markdown",
   "metadata": {},
   "source": [
    "It is common when working with time series data to extract data that explains relationships across rows as opposed to columns, e.g.:\n",
    "* Running averages\n",
    "* Time until next event\n",
    "* Time since last event\n",
    "\n",
    "This is often difficult to do with most table manipulation frameworks, since they are designed to work with relationships across columns. As such, we've created a class to handle this type of data.\n",
    "\n",
    "We'll define a function `get_elapsed` for cumulative counting across a sorted dataframe. Given a particular field `fld` to monitor, this function will start tracking time since the last occurrence of that field. When the field is seen again, the counter is set to zero.\n",
    "\n",
    "Upon initialization, this will result in datetime na's until the field is encountered. This is reset every time a new store is seen. We'll see how to use this shortly."
   ]
  },
  {
   "cell_type": "code",
   "execution_count": 61,
   "metadata": {},
   "outputs": [],
   "source": [
    "def get_elapsed(fld, pre):\n",
    "    day1 = np.timedelta64(1, 'D')\n",
    "    last_date = np.datetime64()\n",
    "    last_store = 0\n",
    "    res = []\n",
    "\n",
    "    for s,v,d in zip(df.Store.values,df[fld].values, df.Date.values):\n",
    "        if s != last_store:\n",
    "            last_date = np.datetime64()\n",
    "            last_store = s\n",
    "        if v: last_date = d\n",
    "        res.append(((d-last_date).astype('timedelta64[D]') / day1))\n",
    "    df[pre+fld] = res"
   ]
  },
  {
   "cell_type": "markdown",
   "metadata": {},
   "source": [
    "We'll be applying this to a subset of columns:"
   ]
  },
  {
   "cell_type": "code",
   "execution_count": 62,
   "metadata": {},
   "outputs": [],
   "source": [
    "columns = [\"Date\", \"Store\", \"Promo\", \"StateHoliday\", \"SchoolHoliday\"]"
   ]
  },
  {
   "cell_type": "code",
   "execution_count": 63,
   "metadata": {},
   "outputs": [],
   "source": [
    "#df = train[columns]\n",
    "df = train[columns].append(test[columns])"
   ]
  },
  {
   "cell_type": "markdown",
   "metadata": {},
   "source": [
    "Let's walk through an example.\n",
    "\n",
    "Say we're looking at School Holiday. We'll first sort by Store, then Date, and then call `add_elapsed('SchoolHoliday', 'After')`:\n",
    "This will apply to each row with School Holiday:\n",
    "* A applied to every row of the dataframe in order of store and date\n",
    "* Will add to the dataframe the days since seeing a School Holiday\n",
    "* If we sort in the other direction, this will count the days until another holiday."
   ]
  },
  {
   "cell_type": "code",
   "execution_count": 66,
   "metadata": {},
   "outputs": [],
   "source": [
    "fld = 'SchoolHoliday'\n",
    "df = df.sort_values(['Store', 'Date'])\n",
    "get_elapsed(fld, 'After')\n",
    "df = df.sort_values(['Store', 'Date'], ascending=[True, False])\n",
    "get_elapsed(fld, 'Before')"
   ]
  },
  {
   "cell_type": "markdown",
   "metadata": {},
   "source": [
    "We'll do this for two more fields."
   ]
  },
  {
   "cell_type": "code",
   "execution_count": 64,
   "metadata": {},
   "outputs": [],
   "source": [
    "fld = 'StateHoliday'\n",
    "df = df.sort_values(['Store', 'Date'])\n",
    "get_elapsed(fld, 'After')\n",
    "df = df.sort_values(['Store', 'Date'], ascending=[True, False])\n",
    "get_elapsed(fld, 'Before')"
   ]
  },
  {
   "cell_type": "code",
   "execution_count": 65,
   "metadata": {},
   "outputs": [],
   "source": [
    "fld = 'Promo'\n",
    "df = df.sort_values(['Store', 'Date'])\n",
    "get_elapsed(fld, 'After')\n",
    "df = df.sort_values(['Store', 'Date'], ascending=[True, False])\n",
    "get_elapsed(fld, 'Before')"
   ]
  },
  {
   "cell_type": "markdown",
   "metadata": {},
   "source": [
    "We're going to set the active index to Date."
   ]
  },
  {
   "cell_type": "code",
   "execution_count": 67,
   "metadata": {},
   "outputs": [],
   "source": [
    "df = df.set_index(\"Date\")"
   ]
  },
  {
   "cell_type": "markdown",
   "metadata": {},
   "source": [
    "Then set null values from elapsed field calculations to 0."
   ]
  },
  {
   "cell_type": "code",
   "execution_count": 68,
   "metadata": {},
   "outputs": [],
   "source": [
    "columns = ['SchoolHoliday', 'StateHoliday', 'Promo']"
   ]
  },
  {
   "cell_type": "code",
   "execution_count": 69,
   "metadata": {},
   "outputs": [],
   "source": [
    "for o in ['Before', 'After']:\n",
    "    for p in columns:\n",
    "        a = o+p\n",
    "        df[a] = df[a].fillna(0).astype(int)"
   ]
  },
  {
   "cell_type": "markdown",
   "metadata": {},
   "source": [
    "Next we'll demonstrate window functions in pandas to calculate rolling quantities.\n",
    "\n",
    "Here we're sorting by date (`sort_index()`) and counting the number of events of interest (`sum()`) defined in `columns` in the following week (`rolling()`), grouped by Store (`groupby()`). We do the same in the opposite direction."
   ]
  },
  {
   "cell_type": "code",
   "execution_count": 70,
   "metadata": {},
   "outputs": [],
   "source": [
    "bwd = df[['Store']+columns].sort_index().groupby(\"Store\").rolling(7, min_periods=1).sum()"
   ]
  },
  {
   "cell_type": "code",
   "execution_count": 71,
   "metadata": {},
   "outputs": [],
   "source": [
    "fwd = df[['Store']+columns].sort_index(ascending=False\n",
    "                                      ).groupby(\"Store\").rolling(7, min_periods=1).sum()"
   ]
  },
  {
   "cell_type": "markdown",
   "metadata": {},
   "source": [
    "Next we want to drop the Store indices grouped together in the window function.\n",
    "\n",
    "Often in pandas, there is an option to do this in place. This is time and memory efficient when working with large datasets."
   ]
  },
  {
   "cell_type": "code",
   "execution_count": 72,
   "metadata": {},
   "outputs": [],
   "source": [
    "bwd.drop('Store',1,inplace=True)\n",
    "bwd.reset_index(inplace=True)"
   ]
  },
  {
   "cell_type": "code",
   "execution_count": 73,
   "metadata": {},
   "outputs": [],
   "source": [
    "fwd.drop('Store',1,inplace=True)\n",
    "fwd.reset_index(inplace=True)"
   ]
  },
  {
   "cell_type": "code",
   "execution_count": 74,
   "metadata": {},
   "outputs": [],
   "source": [
    "df.reset_index(inplace=True)"
   ]
  },
  {
   "cell_type": "markdown",
   "metadata": {},
   "source": [
    "Now we'll merge these values onto the df."
   ]
  },
  {
   "cell_type": "code",
   "execution_count": 75,
   "metadata": {},
   "outputs": [],
   "source": [
    "df = df.merge(bwd, 'left', ['Date', 'Store'], suffixes=['', '_bw'])\n",
    "df = df.merge(fwd, 'left', ['Date', 'Store'], suffixes=['', '_fw'])"
   ]
  },
  {
   "cell_type": "code",
   "execution_count": 76,
   "metadata": {},
   "outputs": [],
   "source": [
    "df.drop(columns,1,inplace=True)"
   ]
  },
  {
   "cell_type": "code",
   "execution_count": 77,
   "metadata": {},
   "outputs": [
    {
     "data": {
      "text/html": [
       "<div>\n",
       "<style scoped>\n",
       "    .dataframe tbody tr th:only-of-type {\n",
       "        vertical-align: middle;\n",
       "    }\n",
       "\n",
       "    .dataframe tbody tr th {\n",
       "        vertical-align: top;\n",
       "    }\n",
       "\n",
       "    .dataframe thead th {\n",
       "        text-align: right;\n",
       "    }\n",
       "</style>\n",
       "<table border=\"1\" class=\"dataframe\">\n",
       "  <thead>\n",
       "    <tr style=\"text-align: right;\">\n",
       "      <th></th>\n",
       "      <th>Date</th>\n",
       "      <th>Store</th>\n",
       "      <th>AfterStateHoliday</th>\n",
       "      <th>BeforeStateHoliday</th>\n",
       "      <th>AfterPromo</th>\n",
       "      <th>BeforePromo</th>\n",
       "      <th>AfterSchoolHoliday</th>\n",
       "      <th>BeforeSchoolHoliday</th>\n",
       "      <th>SchoolHoliday_bw</th>\n",
       "      <th>StateHoliday_bw</th>\n",
       "      <th>Promo_bw</th>\n",
       "      <th>SchoolHoliday_fw</th>\n",
       "      <th>StateHoliday_fw</th>\n",
       "      <th>Promo_fw</th>\n",
       "    </tr>\n",
       "  </thead>\n",
       "  <tbody>\n",
       "    <tr>\n",
       "      <td>0</td>\n",
       "      <td>2015-09-17</td>\n",
       "      <td>1</td>\n",
       "      <td>105</td>\n",
       "      <td>0</td>\n",
       "      <td>0</td>\n",
       "      <td>0</td>\n",
       "      <td>13</td>\n",
       "      <td>0</td>\n",
       "      <td>0.0</td>\n",
       "      <td>0.0</td>\n",
       "      <td>4.0</td>\n",
       "      <td>0.0</td>\n",
       "      <td>0.0</td>\n",
       "      <td>1.0</td>\n",
       "    </tr>\n",
       "    <tr>\n",
       "      <td>1</td>\n",
       "      <td>2015-09-16</td>\n",
       "      <td>1</td>\n",
       "      <td>104</td>\n",
       "      <td>0</td>\n",
       "      <td>0</td>\n",
       "      <td>0</td>\n",
       "      <td>12</td>\n",
       "      <td>0</td>\n",
       "      <td>0.0</td>\n",
       "      <td>0.0</td>\n",
       "      <td>3.0</td>\n",
       "      <td>0.0</td>\n",
       "      <td>0.0</td>\n",
       "      <td>2.0</td>\n",
       "    </tr>\n",
       "    <tr>\n",
       "      <td>2</td>\n",
       "      <td>2015-09-15</td>\n",
       "      <td>1</td>\n",
       "      <td>103</td>\n",
       "      <td>0</td>\n",
       "      <td>0</td>\n",
       "      <td>0</td>\n",
       "      <td>11</td>\n",
       "      <td>0</td>\n",
       "      <td>0.0</td>\n",
       "      <td>0.0</td>\n",
       "      <td>2.0</td>\n",
       "      <td>0.0</td>\n",
       "      <td>0.0</td>\n",
       "      <td>3.0</td>\n",
       "    </tr>\n",
       "    <tr>\n",
       "      <td>3</td>\n",
       "      <td>2015-09-14</td>\n",
       "      <td>1</td>\n",
       "      <td>102</td>\n",
       "      <td>0</td>\n",
       "      <td>0</td>\n",
       "      <td>0</td>\n",
       "      <td>10</td>\n",
       "      <td>0</td>\n",
       "      <td>0.0</td>\n",
       "      <td>0.0</td>\n",
       "      <td>1.0</td>\n",
       "      <td>0.0</td>\n",
       "      <td>0.0</td>\n",
       "      <td>4.0</td>\n",
       "    </tr>\n",
       "    <tr>\n",
       "      <td>4</td>\n",
       "      <td>2015-09-13</td>\n",
       "      <td>1</td>\n",
       "      <td>101</td>\n",
       "      <td>0</td>\n",
       "      <td>9</td>\n",
       "      <td>-1</td>\n",
       "      <td>9</td>\n",
       "      <td>0</td>\n",
       "      <td>0.0</td>\n",
       "      <td>0.0</td>\n",
       "      <td>0.0</td>\n",
       "      <td>0.0</td>\n",
       "      <td>0.0</td>\n",
       "      <td>4.0</td>\n",
       "    </tr>\n",
       "  </tbody>\n",
       "</table>\n",
       "</div>"
      ],
      "text/plain": [
       "        Date  Store  AfterStateHoliday  BeforeStateHoliday  AfterPromo  \\\n",
       "0 2015-09-17      1                105                   0           0   \n",
       "1 2015-09-16      1                104                   0           0   \n",
       "2 2015-09-15      1                103                   0           0   \n",
       "3 2015-09-14      1                102                   0           0   \n",
       "4 2015-09-13      1                101                   0           9   \n",
       "\n",
       "   BeforePromo  AfterSchoolHoliday  BeforeSchoolHoliday  SchoolHoliday_bw  \\\n",
       "0            0                  13                    0               0.0   \n",
       "1            0                  12                    0               0.0   \n",
       "2            0                  11                    0               0.0   \n",
       "3            0                  10                    0               0.0   \n",
       "4           -1                   9                    0               0.0   \n",
       "\n",
       "   StateHoliday_bw  Promo_bw  SchoolHoliday_fw  StateHoliday_fw  Promo_fw  \n",
       "0              0.0       4.0               0.0              0.0       1.0  \n",
       "1              0.0       3.0               0.0              0.0       2.0  \n",
       "2              0.0       2.0               0.0              0.0       3.0  \n",
       "3              0.0       1.0               0.0              0.0       4.0  \n",
       "4              0.0       0.0               0.0              0.0       4.0  "
      ]
     },
     "execution_count": 77,
     "metadata": {},
     "output_type": "execute_result"
    }
   ],
   "source": [
    "df.head()"
   ]
  },
  {
   "cell_type": "markdown",
   "metadata": {},
   "source": [
    "It's usually a good idea to back up large tables of extracted / wrangled features before you join them onto another one, that way you can go back to it easily if you need to make changes to it."
   ]
  },
  {
   "cell_type": "code",
   "execution_count": 78,
   "metadata": {},
   "outputs": [],
   "source": [
    "df.to_pickle(PATH/'df')"
   ]
  },
  {
   "cell_type": "code",
   "execution_count": 79,
   "metadata": {},
   "outputs": [],
   "source": [
    "df[\"Date\"] = pd.to_datetime(df.Date)"
   ]
  },
  {
   "cell_type": "code",
   "execution_count": 80,
   "metadata": {},
   "outputs": [
    {
     "data": {
      "text/plain": [
       "Index(['Date', 'Store', 'AfterStateHoliday', 'BeforeStateHoliday',\n",
       "       'AfterPromo', 'BeforePromo', 'AfterSchoolHoliday',\n",
       "       'BeforeSchoolHoliday', 'SchoolHoliday_bw', 'StateHoliday_bw',\n",
       "       'Promo_bw', 'SchoolHoliday_fw', 'StateHoliday_fw', 'Promo_fw'],\n",
       "      dtype='object')"
      ]
     },
     "execution_count": 80,
     "metadata": {},
     "output_type": "execute_result"
    }
   ],
   "source": [
    "df.columns"
   ]
  },
  {
   "cell_type": "code",
   "execution_count": 81,
   "metadata": {},
   "outputs": [],
   "source": [
    "joined = pd.read_pickle(PATH/'joined')\n",
    "joined_test = pd.read_pickle(PATH/f'joined_test')"
   ]
  },
  {
   "cell_type": "code",
   "execution_count": 83,
   "metadata": {},
   "outputs": [],
   "source": [
    "joined = join_df(joined, df, ['Store', 'Date'])"
   ]
  },
  {
   "cell_type": "code",
   "execution_count": 84,
   "metadata": {},
   "outputs": [],
   "source": [
    "joined_test = join_df(joined_test, df, ['Store', 'Date'])"
   ]
  },
  {
   "cell_type": "markdown",
   "metadata": {},
   "source": [
    "The authors also removed all instances where the store had zero sale / was closed. We speculate that this may have cost them a higher standing in the competition. One reason this may be the case is that a little exploratory data analysis reveals that there are often periods where stores are closed, typically for refurbishment. Before and after these periods, there are naturally spikes in sales that one might expect. By ommitting this data from their training, the authors gave up the ability to leverage information about these periods to predict this otherwise volatile behavior."
   ]
  },
  {
   "cell_type": "code",
   "execution_count": 85,
   "metadata": {},
   "outputs": [],
   "source": [
    "joined = joined[joined.Sales!=0]"
   ]
  },
  {
   "cell_type": "markdown",
   "metadata": {},
   "source": [
    "We'll back this up as well."
   ]
  },
  {
   "cell_type": "code",
   "execution_count": 86,
   "metadata": {},
   "outputs": [],
   "source": [
    "joined.reset_index(inplace=True)\n",
    "joined_test.reset_index(inplace=True)"
   ]
  },
  {
   "cell_type": "code",
   "execution_count": 87,
   "metadata": {},
   "outputs": [],
   "source": [
    "joined.to_pickle(PATH/'train_clean')\n",
    "joined_test.to_pickle(PATH/'test_clean')"
   ]
  },
  {
   "cell_type": "code",
   "execution_count": null,
   "metadata": {},
   "outputs": [],
   "source": []
  }
 ],
 "metadata": {
  "kernelspec": {
   "display_name": "Python 3",
   "language": "python",
   "name": "python3"
  },
  "language_info": {
   "codemirror_mode": {
    "name": "ipython",
    "version": 3
   },
   "file_extension": ".py",
   "mimetype": "text/x-python",
   "name": "python",
   "nbconvert_exporter": "python",
   "pygments_lexer": "ipython3",
   "version": "3.7.3"
  }
 },
 "nbformat": 4,
 "nbformat_minor": 2
}
